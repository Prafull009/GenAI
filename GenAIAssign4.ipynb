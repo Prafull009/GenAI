{
  "nbformat": 4,
  "nbformat_minor": 0,
  "metadata": {
    "colab": {
      "provenance": [],
      "authorship_tag": "ABX9TyOJKToNbY6Q5jxM/9NS57g4",
      "include_colab_link": true
    },
    "kernelspec": {
      "name": "python3",
      "display_name": "Python 3"
    },
    "language_info": {
      "name": "python"
    }
  },
  "cells": [
    {
      "cell_type": "markdown",
      "metadata": {
        "id": "view-in-github",
        "colab_type": "text"
      },
      "source": [
        "<a href=\"https://colab.research.google.com/github/Prafull009/GenAI/blob/main/GenAIAssign4.ipynb\" target=\"_parent\"><img src=\"https://colab.research.google.com/assets/colab-badge.svg\" alt=\"Open In Colab\"/></a>"
      ]
    },
    {
      "cell_type": "code",
      "execution_count": 2,
      "metadata": {
        "id": "I3iiniEiKHsb"
      },
      "outputs": [],
      "source": [
        "import google.generativeai as genai"
      ]
    },
    {
      "cell_type": "code",
      "source": [
        "from google.colab import userdata\n",
        "key = userdata.get(\"GEMINI_KEY\")"
      ],
      "metadata": {
        "id": "MvzM9tInKlKo"
      },
      "execution_count": 3,
      "outputs": []
    },
    {
      "cell_type": "code",
      "source": [
        "genai.configure(api_key=key)\n",
        "model = genai.GenerativeModel(\"gemini-1.5-flash\")"
      ],
      "metadata": {
        "id": "JeC5fqMRKpx-"
      },
      "execution_count": 4,
      "outputs": []
    },
    {
      "cell_type": "code",
      "source": [
        "print(\"Ask questions(Enter 'Exit') to end conversation:\\n\")\n",
        "while True:\n",
        "  question = input(\"You: \")\n",
        "  if question.lower() == \"exit\": break\n",
        "  responce = model.generate_content(question)\n",
        "  print(\"\\nBot: \" + responce.text)"
      ],
      "metadata": {
        "colab": {
          "base_uri": "https://localhost:8080/",
          "height": 138
        },
        "id": "TswPKMqhKsQq",
        "outputId": "af1bd0ce-5ae7-48b0-aa5e-a4ff83fc6add"
      },
      "execution_count": 5,
      "outputs": [
        {
          "name": "stdout",
          "output_type": "stream",
          "text": [
            "Ask questions(Enter 'Exit') to end conversation:\n",
            "\n",
            "You: Hi\n",
            "\n",
            "Bot: Hi there! How can I help you today?\n",
            "\n",
            "You: EXIT\n"
          ]
        }
      ]
    }
  ]
}