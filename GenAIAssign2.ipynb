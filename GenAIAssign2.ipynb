{
  "nbformat": 4,
  "nbformat_minor": 0,
  "metadata": {
    "colab": {
      "provenance": [],
      "authorship_tag": "ABX9TyNGCQxR70dOkRp+4zgT5CRC",
      "include_colab_link": true
    },
    "kernelspec": {
      "name": "python3",
      "display_name": "Python 3"
    },
    "language_info": {
      "name": "python"
    }
  },
  "cells": [
    {
      "cell_type": "markdown",
      "metadata": {
        "id": "view-in-github",
        "colab_type": "text"
      },
      "source": [
        "<a href=\"https://colab.research.google.com/github/Prafull009/GenAI/blob/main/GenAIAssign2.ipynb\" target=\"_parent\"><img src=\"https://colab.research.google.com/assets/colab-badge.svg\" alt=\"Open In Colab\"/></a>"
      ]
    },
    {
      "cell_type": "code",
      "execution_count": null,
      "metadata": {
        "id": "HMRH_r0BYQfE"
      },
      "outputs": [],
      "source": [
        "from google.colab import userdata\n",
        "key = userdata.get(\"GEMINI_KEY\")"
      ]
    },
    {
      "cell_type": "code",
      "source": [
        "import google.generativeai as genai\n",
        "\n",
        "genai.configure(api_key=key)\n",
        "model = genai.GenerativeModel(\"gemini-1.5-flash\")"
      ],
      "metadata": {
        "id": "so0IvYyIYnFJ"
      },
      "execution_count": null,
      "outputs": []
    },
    {
      "cell_type": "code",
      "source": [
        "response = model.generate_content(\"Explain GenAI\")\n",
        "print(response.text)"
      ],
      "metadata": {
        "colab": {
          "base_uri": "https://localhost:8080/",
          "height": 558
        },
        "id": "CMGB8IbmYtxL",
        "outputId": "de0b5c09-bf65-4050-a594-a629389e2cd5"
      },
      "execution_count": null,
      "outputs": [
        {
          "output_type": "stream",
          "name": "stdout",
          "text": [
            "GenAI, short for **Generative AI**, is a type of artificial intelligence that can create new content, rather than just analyzing or classifying existing data.  Unlike traditional AI systems which are primarily focused on tasks like prediction or classification, GenAI models *generate* outputs like text, images, audio, video, code, and 3D models.\n",
            "\n",
            "Here's a breakdown of key aspects:\n",
            "\n",
            "* **Generative Models:**  These are the underlying algorithms that power GenAI. Popular examples include:\n",
            "    * **Large Language Models (LLMs):**  These models process vast amounts of text data and learn to predict the probability of the next word in a sequence, allowing them to generate human-like text.  Examples include GPT-3, LaMDA, and PaLM.\n",
            "    * **Diffusion Models:** These models learn to gradually remove noise from random data until a coherent image or other form of media emerges.  They are often used for image generation. Examples include Stable Diffusion and DALL-E 2.\n",
            "    * **Generative Adversarial Networks (GANs):** These involve two neural networks competing against each other—a generator that creates data and a discriminator that tries to distinguish between real and generated data. This competition pushes the generator to produce increasingly realistic outputs.\n",
            "    * **Variational Autoencoders (VAEs):** These models learn a compressed representation of data and can then generate new data points that resemble the original data.\n",
            "\n",
            "* **How it Works (Simplified):**  GenAI models learn patterns and relationships from massive datasets.  Once trained, they can then use this learned knowledge to generate new content that shares similar characteristics to the training data.  For example, an LLM trained on a vast corpus of text can generate articles, poems, code, scripts, and more, based on a user prompt.\n",
            "\n",
            "* **Applications:** GenAI has a wide range of applications, including:\n",
            "    * **Content Creation:**  Generating articles, stories, scripts, marketing copy, musical pieces, and artwork.\n",
            "    * **Software Development:**  Assisting with code generation, debugging, and documentation.\n",
            "    * **Drug Discovery:**  Designing new molecules and predicting their properties.\n",
            "    * **Personalized Education:**  Creating customized learning materials and tutoring systems.\n",
            "    * **Game Development:**  Generating game levels, characters, and storylines.\n",
            "\n",
            "\n",
            "* **Limitations:**  Despite its potential, GenAI also has limitations:\n",
            "\n",
            "    * **Bias:**  GenAI models can inherit and amplify biases present in their training data, leading to unfair or discriminatory outputs.\n",
            "    * **Hallucinations:**  Models can sometimes generate outputs that are factually incorrect or nonsensical.\n",
            "    * **Ethical Concerns:**  The potential misuse of GenAI for malicious purposes, such as creating deepfakes or generating misleading information, raises serious ethical concerns.\n",
            "    * **Computational Cost:** Training and running sophisticated GenAI models can require significant computational resources.\n",
            "\n",
            "\n",
            "In summary, GenAI is a rapidly evolving field with immense potential to transform various industries.  However, it's crucial to be aware of its limitations and potential risks to ensure responsible development and deployment.\n",
            "\n"
          ]
        }
      ]
    },
    {
      "cell_type": "markdown",
      "source": [
        "Interview Approch"
      ],
      "metadata": {
        "id": "L72F8dsXZSbi"
      }
    },
    {
      "cell_type": "code",
      "source": [
        "prompt = \"\"\"\n",
        "Let's analyze the impact of AI on employment through a structured interview:\n",
        "1. What industries are most affected by AI automation?\n",
        "2. How does AI impact job availability in those industries?\n",
        "3. Are there any new job opportunities created by AI?\n",
        "4. What role does AI play in augmenting human workers rather than replacing them?\n",
        "5. What policies can help workers transition into AI-driven job markets?\n",
        "\"\"\"\n",
        "response = model.generate_content(prompt)\n",
        "print(response.text)"
      ],
      "metadata": {
        "colab": {
          "base_uri": "https://localhost:8080/",
          "height": 575
        },
        "id": "-Ri4bBCAZU3h",
        "outputId": "932af2f0-2319-41a8-f932-d0c478ad4612"
      },
      "execution_count": null,
      "outputs": [
        {
          "output_type": "stream",
          "name": "stdout",
          "text": [
            "## Interview: The Impact of AI on Employment\n",
            "\n",
            "**Interviewer:** Let's discuss the multifaceted impact of Artificial Intelligence on the employment landscape.\n",
            "\n",
            "**1. What industries are most affected by AI automation?**\n",
            "\n",
            "**Interviewee:**  Several industries are experiencing significant disruption from AI automation.  Manufacturing is a prime example, with robots and automated systems taking over repetitive tasks on assembly lines.  Transportation is another, with autonomous vehicles poised to replace human drivers in trucking, delivery, and potentially even ride-sharing.  Customer service is also heavily impacted, with AI-powered chatbots and virtual assistants handling a growing portion of interactions.  Finally, data entry and processing roles in finance, healthcare, and other sectors are increasingly being automated.  Essentially, industries relying on repetitive, data-driven, or physically demanding tasks are most vulnerable.\n",
            "\n",
            "\n",
            "**2. How does AI impact job availability in those industries?**\n",
            "\n",
            "**Interviewee:** The impact on job availability is complex and varies across industries. In some cases, AI leads to direct job displacement, as seen with the potential for widespread job losses among truck drivers or factory workers.  In other cases, the impact is more subtle, with AI changing the nature of work rather than eliminating it entirely. For example, customer service representatives might handle more complex issues, requiring higher-level skills, while simpler queries are handled by AI.  Ultimately, the overall effect on job availability depends on factors like the speed of AI adoption, the ability of workers to adapt, and the creation of new roles.\n",
            "\n",
            "\n",
            "**3. Are there any new job opportunities created by AI?**\n",
            "\n",
            "**Interviewee:** Absolutely. The development and implementation of AI systems creates a significant demand for new skills and roles.  We need AI researchers, developers, engineers, data scientists, and specialists in AI ethics and governance.  Furthermore, roles focusing on maintaining, repairing, and managing AI systems will be crucial.  We're also seeing the rise of new roles focused on human-AI collaboration, such as AI trainers, prompt engineers, and AI ethicists. The emergence of AI also spurs innovation in related fields creating new opportunities indirectly.\n",
            "\n",
            "\n",
            "**4. What role does AI play in augmenting human workers rather than replacing them?**\n",
            "\n",
            "**Interviewee:** AI's role in augmentation is arguably even more significant than its role in replacement, at least in the near term.  AI can handle tedious or repetitive tasks, freeing up human workers to focus on more creative, strategic, and complex responsibilities.  For example, doctors can use AI to analyze medical images, aiding in diagnosis; lawyers can use AI to research legal precedents; and marketers can leverage AI to personalize customer interactions.  This augmentation leads to increased productivity, improved decision-making, and enhanced job satisfaction.\n",
            "\n",
            "\n",
            "**5. What policies can help workers transition into AI-driven job markets?**\n",
            "\n",
            "**Interviewee:**  Addressing the challenges of AI-driven job displacement requires a multi-pronged approach.  Investing heavily in education and reskilling programs is crucial, equipping workers with the skills needed for emerging AI-related jobs.  Governments can also implement social safety nets, such as unemployment benefits and income support programs, to provide financial security during transitions.  Furthermore, fostering a culture of lifelong learning and promoting adaptable skills is essential.  Finally, policies promoting collaboration between industry, government, and educational institutions are vital to ensure that workforce development aligns with the evolving needs of the AI-driven economy.  This might include apprenticeships, tax incentives for reskilling initiatives, and publicly funded training programs focused on in-demand AI skills.\n",
            "\n",
            "\n",
            "**Interviewer:** Thank you. This comprehensive overview provides a valuable insight into the complex relationship between AI and employment.\n",
            "\n"
          ]
        }
      ]
    },
    {
      "cell_type": "markdown",
      "source": [
        "Chain of Thought"
      ],
      "metadata": {
        "id": "KtS_XSsgZrUl"
      }
    },
    {
      "cell_type": "code",
      "source": [
        "prompt = \"\"\"\n",
        "Solve this problem step by step:\n",
        "A train travels 60 km in 1.5 hours. What is its speed?\n",
        "\n",
        "1. Distance traveled = 60 km.\n",
        "2. Time taken = 1.5 hours.\n",
        "3. Speed = Distance / Time.\n",
        "4. Speed = 60 km / 1.5 hours.\n",
        "5. Answer:\n",
        "\"\"\"\n",
        "response = model.generate_content(prompt)\n",
        "print(response.text)\n"
      ],
      "metadata": {
        "colab": {
          "base_uri": "https://localhost:8080/",
          "height": 52
        },
        "id": "uKPPa1nwZvXf",
        "outputId": "3e9a6f28-9fcd-457d-ecb1-0e7633c99a68"
      },
      "execution_count": null,
      "outputs": [
        {
          "output_type": "stream",
          "name": "stdout",
          "text": [
            "5. Answer: 40 km/hour\n",
            "\n"
          ]
        }
      ]
    },
    {
      "cell_type": "markdown",
      "source": [
        "Tree of Thought"
      ],
      "metadata": {
        "id": "xhIca69baAdG"
      }
    },
    {
      "cell_type": "code",
      "source": [
        "prompt = \"\"\"\n",
        "Let's evaluate multiple investment strategies for $10,000 in 2025:\n",
        "1. **Stock Market**:\n",
        "   - Pros: Potential high returns.\n",
        "   - Cons: High volatility.\n",
        "\n",
        "2. **Real Estate**:\n",
        "   - Pros: Stable, long-term growth.\n",
        "   - Cons: Requires large capital.\n",
        "\n",
        "3. **Cryptocurrency**:\n",
        "   - Pros: High-risk, high-reward.\n",
        "   - Cons: Unpredictable market.\n",
        "\n",
        "Which strategy is best for a risk-averse investor?\n",
        "\"\"\"\n",
        "response = model.generate_content(prompt)\n",
        "print(response.text)\n"
      ],
      "metadata": {
        "colab": {
          "base_uri": "https://localhost:8080/",
          "height": 315
        },
        "id": "A0cgi0_GZ0-K",
        "outputId": "f66f5026-3240-4e42-aeeb-4f96490fc59a"
      },
      "execution_count": null,
      "outputs": [
        {
          "output_type": "stream",
          "name": "stdout",
          "text": [
            "For a risk-averse investor with $10,000 in 2025, **none of the three options are ideal on their own**.  All three carry significant risk, albeit in different ways.\n",
            "\n",
            "* **Stock Market:** While diversified stock market index funds can mitigate some risk,  market fluctuations can still cause significant short-term losses, making it unsuitable for a truly risk-averse individual.\n",
            "\n",
            "* **Real Estate:**  Requires a much larger capital investment than $10,000 to purchase even a small property, making this unrealistic.  Even if investing in REITs (Real Estate Investment Trusts) which are more accessible, they still carry market risk.\n",
            "\n",
            "* **Cryptocurrency:** This is the highest risk option of the three.  It's incredibly volatile and speculative.\n",
            "\n",
            "A risk-averse investor with $10,000 should consider **safer, lower-return options** like:\n",
            "\n",
            "* **High-yield savings accounts:** These offer a modest return with FDIC insurance (in the US), protecting their principal.\n",
            "* **Certificates of Deposit (CDs):**  These offer a fixed interest rate for a specific term, providing predictable returns but with less liquidity.\n",
            "* **Government bonds:**  These are considered very low-risk investments, though returns may be modest.\n",
            "\n",
            "A better strategy might be a **diversified portfolio** combining a portion in a high-yield savings account or CDs (for safety and liquidity) and a small, carefully considered portion in a low-cost, diversified stock market index fund (for long-term growth, but accepting some volatility).  The exact allocation would depend on the investor's specific risk tolerance and time horizon, but the emphasis should be on capital preservation rather than maximizing potential returns.  A financial advisor could help determine the right balance.\n",
            "\n"
          ]
        }
      ]
    },
    {
      "cell_type": "markdown",
      "source": [
        "Zero-Shot"
      ],
      "metadata": {
        "id": "Jr6p4rAqaDb9"
      }
    },
    {
      "cell_type": "code",
      "source": [
        "prompt = \"Translate the sentence: 'The weather is nice today' into French.\"\n",
        "response = model.generate_content(prompt)\n",
        "print(response.text)"
      ],
      "metadata": {
        "colab": {
          "base_uri": "https://localhost:8080/",
          "height": 86
        },
        "id": "BJ-U_GCzaHGi",
        "outputId": "b235ba2f-6f97-4449-eebf-74ffeee11c89"
      },
      "execution_count": null,
      "outputs": [
        {
          "output_type": "stream",
          "name": "stdout",
          "text": [
            "The most straightforward translation is:\n",
            "\n",
            "**Il fait beau aujourd'hui.**\n",
            "\n"
          ]
        }
      ]
    },
    {
      "cell_type": "markdown",
      "source": [
        "Few-Shot"
      ],
      "metadata": {
        "id": "OSPnH0ynaMh_"
      }
    },
    {
      "cell_type": "code",
      "source": [
        "prompt = \"\"\"\n",
        "Translate these English sentences into French:\n",
        "1. \"Hello, how are you?\" → \"Bonjour, comment ça va?\"\n",
        "2. \"I love reading books.\" → \"J'adore lire des livres.\"\n",
        "Now translate: \"The weather is nice today.\"\n",
        "\"\"\"\n",
        "response = model.generate_content(prompt)\n",
        "print(response.text)"
      ],
      "metadata": {
        "colab": {
          "base_uri": "https://localhost:8080/",
          "height": 86
        },
        "id": "DhfRg9hAaJiP",
        "outputId": "24cfa4b2-cd1a-4769-ffd8-34587df6609d"
      },
      "execution_count": null,
      "outputs": [
        {
          "output_type": "stream",
          "name": "stdout",
          "text": [
            "The best translation of \"The weather is nice today\" in French is:\n",
            "\n",
            "**Il fait beau aujourd'hui.**\n",
            "\n"
          ]
        }
      ]
    }
  ]
}